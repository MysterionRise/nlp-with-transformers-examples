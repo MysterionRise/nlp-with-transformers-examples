{
 "cells": [
  {
   "cell_type": "code",
   "execution_count": null,
   "id": "f9e2371e-449c-465b-8c11-6dec50162df8",
   "metadata": {},
   "outputs": [],
   "source": [
    "from sentence_transformers import SentenceTransformer\n",
    "from sklearn.cluster import AgglomerativeClustering\n",
    "import numpy as np\n",
    "import pandas as pd\n",
    "import umap\n",
    "import matplotlib.pyplot as plt"
   ]
  },
  {
   "cell_type": "code",
   "execution_count": null,
   "id": "5a8a6704-1099-4653-8991-5fb11d04120b",
   "metadata": {},
   "outputs": [],
   "source": [
    "embedder = SentenceTransformer('all-MiniLM-L6-v2')"
   ]
  },
  {
   "cell_type": "code",
   "execution_count": null,
   "id": "1c305764-3001-48a4-b57d-a1403572af88",
   "metadata": {},
   "outputs": [],
   "source": [
    "corpus = pd.read_csv(\"queries-prod.csv\")\n",
    "cleaned_corpus = corpus.groupby(['query'], as_index = False).agg({'weight': 'sum', 'count': 'mean'})\n",
    "print(cleaned_corpus)\n",
    "corpus_embeddings = embedder.encode(cleaned_corpus[\"query\"])"
   ]
  },
  {
   "cell_type": "code",
   "execution_count": null,
   "id": "8cff29bd-0de5-426e-9306-80077848e6bd",
   "metadata": {},
   "outputs": [],
   "source": [
    "corpus_embeddings = corpus_embeddings /  np.linalg.norm(corpus_embeddings, axis=1, keepdims=True)"
   ]
  },
  {
   "cell_type": "code",
   "execution_count": null,
   "id": "5236d5ed-1cf6-4082-998f-ee19a4dba7ec",
   "metadata": {},
   "outputs": [],
   "source": [
    "clustering_model = AgglomerativeClustering(n_clusters=None, distance_threshold=1.5) #, affinity='cosine', linkage='average', distance_threshold=0.4)\n",
    "clustering_model.fit(corpus_embeddings)\n",
    "cluster_assignment = clustering_model.labels_"
   ]
  },
  {
   "cell_type": "code",
   "execution_count": null,
   "id": "aa0cad1d-22fd-4524-a0f0-8065fb342346",
   "metadata": {},
   "outputs": [],
   "source": [
    "clustered_sentences = {}\n",
    "for sentence_id, cluster_id in enumerate(cluster_assignment):\n",
    "    if cluster_id not in clustered_sentences:\n",
    "        clustered_sentences[cluster_id] = []\n",
    "    \n",
    "    clustered_sentences[cluster_id].append(cleaned_corpus.iloc[sentence_id].to_list())\n",
    "\n",
    "print(\"Number of clusters \", len(clustered_sentences))  \n",
    "print(\"==============================================\")\n",
    "for i, cluster in clustered_sentences.items():\n",
    "    total_sum = 0\n",
    "    for item in cluster:\n",
    "        total_sum += item[2] + item[1]\n",
    "    print(f\"\"\"Cluster {i+1} size {total_sum}\"\"\")\n",
    "    print(cluster)\n",
    "    print(\"\")\n",
    "    print(\"==============================================\")"
   ]
  },
  {
   "cell_type": "code",
   "execution_count": null,
   "id": "a4f02b9e-a826-4431-893a-a60bff6ab838",
   "metadata": {},
   "outputs": [],
   "source": [
    "umap_data = umap.UMAP(n_neighbors=15, n_components=2, min_dist=0.0, metric='cosine').fit_transform(corpus_embeddings)\n",
    "result = pd.DataFrame(umap_data, columns=['x', 'y'])\n",
    "result['labels'] = clustering_model.labels_\n",
    "\n",
    "# Visualize clusters\n",
    "fig, ax = plt.subplots(figsize=(20, 10))\n",
    "outliers = result.loc[result.labels == -1, :]\n",
    "clustered = result.loc[result.labels != -1, :]\n",
    "plt.scatter(outliers.x, outliers.y, color='#BDBDBD', s=1)\n",
    "plt.scatter(clustered.x, clustered.y, c=clustered.labels, s=1, cmap='hsv_r')\n",
    "plt.colorbar()"
   ]
  },
  {
   "cell_type": "code",
   "execution_count": null,
   "id": "2c92ae19-9792-4233-9ec7-6d9d8cf0cca5",
   "metadata": {},
   "outputs": [],
   "source": []
  }
 ],
 "metadata": {
  "kernelspec": {
   "display_name": "Python 3 (ipykernel)",
   "language": "python",
   "name": "python3"
  },
  "language_info": {
   "codemirror_mode": {
    "name": "ipython",
    "version": 3
   },
   "file_extension": ".py",
   "mimetype": "text/x-python",
   "name": "python",
   "nbconvert_exporter": "python",
   "pygments_lexer": "ipython3",
   "version": "3.10.0"
  }
 },
 "nbformat": 4,
 "nbformat_minor": 5
}
